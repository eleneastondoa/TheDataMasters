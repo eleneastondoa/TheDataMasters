{
 "cells": [
  {
   "cell_type": "markdown",
   "id": "guided-cooking",
   "metadata": {},
   "source": [
    "<img src = 'fotos/logo_dani.jpeg'>"
   ]
  },
  {
   "cell_type": "markdown",
   "id": "severe-medicaid",
   "metadata": {},
   "source": [
    "## Carga de librerías "
   ]
  },
  {
   "cell_type": "code",
   "execution_count": 1,
   "id": "hearing-graduation",
   "metadata": {},
   "outputs": [],
   "source": [
    "import pandas as pd\n",
    "import numpy as np\n",
    "import os"
   ]
  },
  {
   "cell_type": "markdown",
   "id": "satisfactory-darwin",
   "metadata": {},
   "source": [
    "## Ficheros y rutas de entrada/salida "
   ]
  },
  {
   "cell_type": "code",
   "execution_count": 2,
   "id": "african-hindu",
   "metadata": {},
   "outputs": [],
   "source": [
    "dir_in = '../../datos/datos_desarrollo'\n",
    "file1_in = 'productos_mes_2018.xlsx'\n",
    "file2_in = 'productos_mes_2019.xlsx'\n",
    "file3_in = 'productos_mes_2020.xlsx'\n",
    "dir_out = dir_in"
   ]
  },
  {
   "cell_type": "markdown",
   "id": "clinical-vertical",
   "metadata": {},
   "source": [
    "##  Carga de datos"
   ]
  },
  {
   "cell_type": "code",
   "execution_count": 5,
   "id": "strong-creature",
   "metadata": {},
   "outputs": [],
   "source": [
    "productos_in = ['TOTAL CARNE', 'CARNE CERTIFICADA', 'CARNE FRESCA', 'CARNE CONGELADA', 'CARNE TRANSFORMADA', 'PESCADOS', \n",
    "                'PESCADOS FRESCOS', 'PESCADOS CONGELADOS', 'TOTAL LECHE LIQUIDA', 'T.HUEVOS KGS', 'ARROZ', 'TOTAL PASTAS',\n",
    "               'PAN', 'LEGUMBRES', 'TOTAL ACEITE', 'BOLL.PAST.GALLET.CERE', 'BEBIDAS REFRESCANTES', 'TOTAL VINOS', 'CERVEZAS',\n",
    "               'T.BEBIDAS ESPIRITUOSA', 'SIDRAS']\n",
    "\n",
    "month_num = {'Enero': '01', 'Febrero': '02', 'Marzo': '03', 'Abril': '04', 'Mayo': '05', 'Junio': '06', 'Julio': '07', 'Agosto': '08', \n",
    "             'Septiembre': '09', 'Octubre': '10', 'Noviembre': '11', 'Diciembre': '12'}"
   ]
  },
  {
   "cell_type": "code",
   "execution_count": 16,
   "id": "lasting-encoding",
   "metadata": {},
   "outputs": [],
   "source": [
    "def clean_df(mes, año):\n",
    "    df_first = sheet_to_df_map[mes].iloc[1:, :7]\n",
    "    df_first.rename(columns = df_first.iloc[0], inplace = True)\n",
    "    df_first = df_first.loc[2:, [np.nan, 'CONSUMO X CAPITA', 'VALOR (Miles Euros)']].rename(columns = {np.nan: 'Producto'})\n",
    "    df_first = df_first[df_first.Producto.isin(productos_in)]\n",
    "    df_first['Fecha'] = '01/' + str(month_num[mes]) + '/' + str(año)\n",
    "    return df_first"
   ]
  },
  {
   "cell_type": "code",
   "execution_count": 17,
   "id": "threatened-desert",
   "metadata": {},
   "outputs": [],
   "source": [
    "def total_df(df, año):\n",
    "    xls = pd.ExcelFile(os.path.join(dir_in, file1_in))\n",
    "\n",
    "    sheet_to_df_map = {}\n",
    "    for sheet_name in xls.sheet_names:\n",
    "        sheet_to_df_map[sheet_name] = xls.parse(sheet_name)\n",
    "    del sheet_to_df_map['PORTADA']\n",
    "\n",
    "    whole_dict = {k: clean_df(k, año) for k in sheet_to_df_map.keys()}\n",
    "    complete_df = pd.concat(whole_dict.values(), ignore_index = True, axis = 0)\n",
    "    \n",
    "    return complete_df"
   ]
  },
  {
   "cell_type": "code",
   "execution_count": 19,
   "id": "sapphire-niger",
   "metadata": {},
   "outputs": [],
   "source": [
    "complete_df_18 = total_df(file1_in, '2018')\n",
    "complete_df_19 = total_df(file1_in, '2019')\n",
    "complete_df_20 = total_df(file1_in, '2020')\n",
    "complete_df = pd.concat([complete_df_18, complete_df_19, complete_df_20], axis = 0)"
   ]
  },
  {
   "cell_type": "code",
   "execution_count": 25,
   "id": "integral-judgment",
   "metadata": {},
   "outputs": [],
   "source": [
    "complete_df.to_csv(os.path.join(dir_out, 'salud.csv'), index = False, sep = ';')"
   ]
  }
 ],
 "metadata": {
  "kernelspec": {
   "display_name": "Python 3",
   "language": "python",
   "name": "python3"
  },
  "language_info": {
   "codemirror_mode": {
    "name": "ipython",
    "version": 3
   },
   "file_extension": ".py",
   "mimetype": "text/x-python",
   "name": "python",
   "nbconvert_exporter": "python",
   "pygments_lexer": "ipython3",
   "version": "3.7.9"
  }
 },
 "nbformat": 4,
 "nbformat_minor": 5
}
