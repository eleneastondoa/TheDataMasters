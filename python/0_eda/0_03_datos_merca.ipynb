{
 "cells": [
  {
   "cell_type": "markdown",
   "id": "opened-vampire",
   "metadata": {},
   "source": [
    "## Metadatos"
   ]
  },
  {
   "cell_type": "markdown",
   "id": "ready-wallace",
   "metadata": {},
   "source": [
    "MercaMadrid y MercaBarna son dos de los mercados mayoristas más representativos en España. El tercer dataset ofrece información sobre los precios y kilogramos comercializados semanalmente de diferentes frutas y hortalizas en sus instalaciones, presentando las siguientes variables:\n",
    "\n",
    "- Kilos de productos comercializados\n",
    "- Precio máximo, mínimo y más frecuente (Euros /Kg) o Precio Medio (Euros/kg)\n",
    "Origen de los datos: MercaMadrid y MercaBarnav"
   ]
  },
  {
   "cell_type": "code",
   "execution_count": 1,
   "id": "cubic-married",
   "metadata": {},
   "outputs": [],
   "source": [
    "import pandas as pd\n",
    "import numpy as np\n",
    "import matplotlib.pyplot as plt\n",
    "import seaborn as sns\n",
    "import os"
   ]
  },
  {
   "cell_type": "markdown",
   "id": "moved-cigarette",
   "metadata": {},
   "source": [
    "## Ficheros y rutas de entrada/salida "
   ]
  },
  {
   "cell_type": "code",
   "execution_count": 2,
   "id": "disturbed-marketing",
   "metadata": {},
   "outputs": [],
   "source": [
    "dir_in = '../../datos/datos_originales/'\n",
    "file1_in = 'Dataset3a_Datos_MercaMadrid.txt'\n",
    "file2_in = 'Dataset3b_Datos_MercaBarna.txt'\n",
    "dir_out = '../../datos/datos_desarrollo'"
   ]
  },
  {
   "cell_type": "markdown",
   "id": "infrared-observation",
   "metadata": {},
   "source": [
    "## Carga de datos "
   ]
  },
  {
   "cell_type": "code",
   "execution_count": 3,
   "id": "stupid-announcement",
   "metadata": {},
   "outputs": [],
   "source": [
    "df_mercamadrid = pd.read_csv(os.path.join(dir_in, file1_in), sep = '|')\n",
    "df_mercabarna = pd.read_csv(os.path.join(dir_in, file2_in), sep = '|')"
   ]
  },
  {
   "cell_type": "markdown",
   "id": "aware-terrain",
   "metadata": {},
   "source": [
    "**Merca Madrid**"
   ]
  },
  {
   "cell_type": "markdown",
   "id": "baking-thesis",
   "metadata": {},
   "source": [
    "Fecha"
   ]
  },
  {
   "cell_type": "code",
   "execution_count": 4,
   "id": "lasting-binding",
   "metadata": {},
   "outputs": [],
   "source": [
    "df_mercamadrid['date'] = pd.to_datetime(df_mercamadrid[['YEAR', 'MONTH']].assign(DAY=1))\n",
    "df_mercamadrid = df_mercamadrid.drop(['YEAR', 'MONTH'], axis = 1)"
   ]
  },
  {
   "cell_type": "markdown",
   "id": "promotional-alexander",
   "metadata": {},
   "source": [
    "Precio"
   ]
  },
  {
   "cell_type": "code",
   "execution_count": 5,
   "id": "spiritual-qatar",
   "metadata": {},
   "outputs": [],
   "source": [
    "df_mercamadrid[['price_mean','price_min', 'price_max']]=df_mercamadrid[['price_mean',\n",
    "                                                                        'price_min', 'price_max']].apply(lambda x: x.str.replace(',','.'))\n",
    "df_mercamadrid[['price_mean','price_min', 'price_max']] = df_mercamadrid[['price_mean','price_min', 'price_max']].astype(float)\n",
    "df_mercamadrid = df_mercamadrid.drop('Unidad', axis = 1)\n",
    "df_mercamadrid=df_mercamadrid.rename(columns={\"price_mean\": \"price_mean_euro_kg\", \n",
    "                                              \"price_min\": \"price_min_euro_kg\", \"price_max\":\"price_max_euro_kg\"});"
   ]
  },
  {
   "cell_type": "markdown",
   "id": "neutral-three",
   "metadata": {},
   "source": [
    "**Merca Barna**"
   ]
  },
  {
   "cell_type": "markdown",
   "id": "explicit-prerequisite",
   "metadata": {},
   "source": [
    "Fecha"
   ]
  },
  {
   "cell_type": "code",
   "execution_count": 6,
   "id": "dying-railway",
   "metadata": {},
   "outputs": [],
   "source": [
    "df_mercabarna['date'] = pd.to_datetime(df_mercabarna[['YEAR', 'MONTH']].assign(DAY=1))\n",
    "df_mercabarna = df_mercabarna.drop(['YEAR', 'MONTH'], axis = 1)"
   ]
  },
  {
   "cell_type": "markdown",
   "id": "fluid-religious",
   "metadata": {},
   "source": [
    "Producto"
   ]
  },
  {
   "cell_type": "code",
   "execution_count": 7,
   "id": "blessed-native",
   "metadata": {},
   "outputs": [],
   "source": [
    "df_mercabarna[['price_mean']]=df_mercabarna[['price_mean']].apply(lambda x: x.str.replace(',','.'))\n",
    "df_mercabarna[['price_mean']] = df_mercabarna[['price_mean']].astype(float)\n",
    "df_mercabarna = df_mercabarna.drop('Unidad', axis = 1)\n",
    "df_mercabarna=df_mercabarna.rename(columns={\"price_mean\": \"price_mean_euro_kg\"});"
   ]
  },
  {
   "cell_type": "markdown",
   "id": "independent-northeast",
   "metadata": {},
   "source": [
    "**Tablas limpias**"
   ]
  },
  {
   "cell_type": "code",
   "execution_count": 10,
   "id": "regular-community",
   "metadata": {},
   "outputs": [],
   "source": [
    "df_mercabarna.to_csv(os.path.join(dir_out, 'mercabarna_clean.csv'), sep = ';', index = False)\n",
    "df_mercamadrid.to_csv(os.path.join(dir_out, 'mercamadrid_clean.csv'), sep = ';', index = False)"
   ]
  }
 ],
 "metadata": {
  "kernelspec": {
   "display_name": "Python 3",
   "language": "python",
   "name": "python3"
  },
  "language_info": {
   "codemirror_mode": {
    "name": "ipython",
    "version": 3
   },
   "file_extension": ".py",
   "mimetype": "text/x-python",
   "name": "python",
   "nbconvert_exporter": "python",
   "pygments_lexer": "ipython3",
   "version": "3.7.9"
  }
 },
 "nbformat": 4,
 "nbformat_minor": 5
}
