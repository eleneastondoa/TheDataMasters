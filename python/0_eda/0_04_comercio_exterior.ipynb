{
 "cells": [
  {
   "cell_type": "markdown",
   "id": "conceptual-ordinary",
   "metadata": {},
   "source": [
    "<img src = 'fotos/logo_dani.jpeg'>"
   ]
  },
  {
   "cell_type": "markdown",
   "id": "disabled-conviction",
   "metadata": {},
   "source": [
    "# Metadatos "
   ]
  },
  {
   "cell_type": "markdown",
   "id": "continuing-ethnic",
   "metadata": {},
   "source": [
    "Este dataset contiene información sobre las exportaciones e importaciones de frutas y hortalizas de españa. Las variables son las siguientes:\n",
    "- Period: periodo en el que se realizó la operación\n",
    "- Reporter: país/entidad del que se importa o al que se exporta\n",
    "- Partner: país que se toma como referencia, todos los valores son españa.\n",
    "- Product: producto de la operación\n",
    "- flow: si se exporta o se importa\n",
    "- quantity_in_100kg: cantidad de producto con el que se opera\n",
    "- value_in_euros: valor de la operación"
   ]
  },
  {
   "cell_type": "markdown",
   "id": "three-recruitment",
   "metadata": {},
   "source": [
    "## Librerías "
   ]
  },
  {
   "cell_type": "code",
   "execution_count": 1,
   "id": "posted-bangladesh",
   "metadata": {},
   "outputs": [],
   "source": [
    "import pandas as pd\n",
    "import numpy as np\n",
    "import matplotlib.pyplot as plt\n",
    "import seaborn as sns\n",
    "import os"
   ]
  },
  {
   "cell_type": "markdown",
   "id": "lasting-citizenship",
   "metadata": {},
   "source": [
    "## Ficheros y rutas de entrada/salida "
   ]
  },
  {
   "cell_type": "code",
   "execution_count": 2,
   "id": "empirical-iraqi",
   "metadata": {},
   "outputs": [],
   "source": [
    "dir_in = '../../datos/datos_desarrollo/'\n",
    "file1_in = 'comercio_exterior_spread.csv'\n",
    "dir_out = '../../datos/datos_desarrollo'"
   ]
  },
  {
   "cell_type": "markdown",
   "id": "devoted-color",
   "metadata": {},
   "source": [
    "## Carga de datos "
   ]
  },
  {
   "cell_type": "code",
   "execution_count": 3,
   "id": "optical-whole",
   "metadata": {},
   "outputs": [],
   "source": [
    "df_comercioex = pd.read_csv(os.path.join(dir_in, file1_in), sep = ',').drop('Unnamed: 0', axis =  1)"
   ]
  },
  {
   "cell_type": "markdown",
   "id": "stuffed-tours",
   "metadata": {},
   "source": [
    "## Preprocesamiento de los datos "
   ]
  },
  {
   "cell_type": "code",
   "execution_count": 4,
   "id": "immediate-xerox",
   "metadata": {},
   "outputs": [],
   "source": [
    "df_comercioex.columns = df_comercioex.columns.str.lower()\n",
    "df_comercioex.rename(columns = {'�..period': 'period'}, inplace = True)\n",
    "df_comercioex[df_comercioex.eq(':')] = np.nan"
   ]
  },
  {
   "cell_type": "markdown",
   "id": "neural-cornell",
   "metadata": {},
   "source": [
    "### Tratamiento de strings "
   ]
  },
  {
   "cell_type": "code",
   "execution_count": 5,
   "id": "relevant-parker",
   "metadata": {},
   "outputs": [],
   "source": [
    "df_comercioex.value_in_euros = df_comercioex.value_in_euros.str.replace(' ', '')\n",
    "df_comercioex.quantity_in_100kg = df_comercioex.quantity_in_100kg.str.replace(' ', '')\n",
    "df_comercioex.period = df_comercioex.period.str.lower().str.replace('.', '', regex = False) "
   ]
  },
  {
   "cell_type": "markdown",
   "id": "fossil-button",
   "metadata": {},
   "source": [
    "### Cambio de clases "
   ]
  },
  {
   "cell_type": "code",
   "execution_count": 6,
   "id": "republican-fashion",
   "metadata": {},
   "outputs": [],
   "source": [
    "navidad = df_comercioex[df_comercioex.period.isin(['jan-dec 2018', 'jan-dec 2019', 'jan-dec 2020'])]\n",
    "df_comercioex_nonav = df_comercioex.drop(navidad.index, axis = 0)\n",
    "df_comercioex_nonav.period = pd.to_datetime(df_comercioex_nonav.period, format = '%b %Y')"
   ]
  },
  {
   "cell_type": "code",
   "execution_count": 7,
   "id": "dying-weekly",
   "metadata": {},
   "outputs": [
    {
     "name": "stderr",
     "output_type": "stream",
     "text": [
      "C:\\Users\\unito\\Anaconda3\\envs\\no_sklearn\\lib\\site-packages\\pandas\\core\\indexing.py:1637: SettingWithCopyWarning: \n",
      "A value is trying to be set on a copy of a slice from a DataFrame\n",
      "\n",
      "See the caveats in the documentation: https://pandas.pydata.org/pandas-docs/stable/user_guide/indexing.html#returning-a-view-versus-a-copy\n",
      "  self._setitem_single_block(indexer, value, name)\n",
      "C:\\Users\\unito\\Anaconda3\\envs\\no_sklearn\\lib\\site-packages\\pandas\\core\\indexing.py:692: SettingWithCopyWarning: \n",
      "A value is trying to be set on a copy of a slice from a DataFrame\n",
      "\n",
      "See the caveats in the documentation: https://pandas.pydata.org/pandas-docs/stable/user_guide/indexing.html#returning-a-view-versus-a-copy\n",
      "  iloc._setitem_with_indexer(indexer, value, self.name)\n",
      "C:\\Users\\unito\\Anaconda3\\envs\\no_sklearn\\lib\\site-packages\\pandas\\core\\generic.py:5491: SettingWithCopyWarning: \n",
      "A value is trying to be set on a copy of a slice from a DataFrame.\n",
      "Try using .loc[row_indexer,col_indexer] = value instead\n",
      "\n",
      "See the caveats in the documentation: https://pandas.pydata.org/pandas-docs/stable/user_guide/indexing.html#returning-a-view-versus-a-copy\n",
      "  self[name] = value\n"
     ]
    }
   ],
   "source": [
    "navidad.loc[navidad[navidad.period == ('jan-dec 2018')].index, 'period'] = '25-12-2018'\n",
    "navidad.loc[navidad[navidad.period == ('jan-dec 2019')].index, 'period'] = '25-12-2019'\n",
    "navidad.loc[navidad[navidad.period == ('jan-dec 2020')].index, 'period'] = '25-12-2020'\n",
    "navidad.period = pd.to_datetime(navidad.period, format = '%d-%m-%Y')\n",
    "df_comercioex = pd.concat([df_comercioex_nonav, navidad], axis = 0)"
   ]
  },
  {
   "cell_type": "code",
   "execution_count": 8,
   "id": "cutting-invention",
   "metadata": {},
   "outputs": [],
   "source": [
    "variables_num = ['quantity_in_100kg', 'value_in_euros']\n",
    "df_comercioex[variables_num] = df_comercioex[variables_num].astype(float)\n",
    "df_comercioex_num = df_comercioex[variables_num]"
   ]
  },
  {
   "cell_type": "markdown",
   "id": "sonic-martin",
   "metadata": {},
   "source": [
    "### Eliminación de columnas "
   ]
  },
  {
   "cell_type": "code",
   "execution_count": 9,
   "id": "gorgeous-animal",
   "metadata": {},
   "outputs": [],
   "source": [
    "df_comercioex.drop('partner', axis = 1, inplace = True)"
   ]
  },
  {
   "cell_type": "markdown",
   "id": "dress-glossary",
   "metadata": {},
   "source": [
    "### Normalización del texto "
   ]
  },
  {
   "cell_type": "code",
   "execution_count": 10,
   "id": "conventional-shareware",
   "metadata": {},
   "outputs": [],
   "source": [
    "def normalize(columna):\n",
    "   \n",
    "    ''' Normalizar una columna en formato 'pandas.core.series.Series' que contenga clases primarias de formato string.\n",
    "        Normalizar significa quitar tildes, ponerlos en formato minúscula y quitar cualquier elemento no ascii:\n",
    "    \n",
    "    Args:\n",
    "        arg_1(pandas.core.series.Series): Columa cuyos elementos strings se quiere normalizar.\n",
    "        \n",
    "    Returns:\n",
    "        pandas.core.series.Series: La columna normalizada. '''\n",
    "    \n",
    "    columna_norm = columna.str.normalize('NFKD')\\\n",
    "       .str.encode('ascii', errors='ignore')\\\n",
    "       .str.decode('utf-8')\\\n",
    "       .str.lower()\n",
    "    return columna_norm"
   ]
  },
  {
   "cell_type": "code",
   "execution_count": 11,
   "id": "hawaiian-weekend",
   "metadata": {},
   "outputs": [],
   "source": [
    "to_normalize = ['reporter', 'product', 'flow']\n",
    "df_comercioex[to_normalize] = df_comercioex[to_normalize].apply(normalize)"
   ]
  },
  {
   "cell_type": "code",
   "execution_count": 12,
   "id": "raised-botswana",
   "metadata": {},
   "outputs": [],
   "source": [
    "df_comercioex.reporter = df_comercioex.reporter.str.replace(r'\\(.*\\)', '', regex = True)"
   ]
  },
  {
   "cell_type": "code",
   "execution_count": 13,
   "id": "practical-metadata",
   "metadata": {},
   "outputs": [],
   "source": [
    "df_comercioex.to_csv(os.path.join(dir_out, 'comercioex_clean.csv'), sep = ';', index = False)"
   ]
  }
 ],
 "metadata": {
  "kernelspec": {
   "display_name": "Python 3",
   "language": "python",
   "name": "python3"
  },
  "language_info": {
   "codemirror_mode": {
    "name": "ipython",
    "version": 3
   },
   "file_extension": ".py",
   "mimetype": "text/x-python",
   "name": "python",
   "nbconvert_exporter": "python",
   "pygments_lexer": "ipython3",
   "version": "3.7.9"
  }
 },
 "nbformat": 4,
 "nbformat_minor": 5
}
