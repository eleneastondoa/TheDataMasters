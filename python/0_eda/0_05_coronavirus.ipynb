{
 "cells": [
  {
   "cell_type": "markdown",
   "id": "applicable-closure",
   "metadata": {},
   "source": [
    "<img src = 'fotos/logo_dani.jpeg'>"
   ]
  },
  {
   "cell_type": "code",
   "execution_count": 1,
   "id": "honest-protest",
   "metadata": {},
   "outputs": [],
   "source": [
    "import pandas as pd\n",
    "import numpy as np\n",
    "import matplotlib.pyplot as plt\n",
    "import seaborn as sns\n",
    "import os"
   ]
  },
  {
   "cell_type": "markdown",
   "id": "adult-steel",
   "metadata": {},
   "source": [
    "## Ficheros y rutas de entrada/salida "
   ]
  },
  {
   "cell_type": "code",
   "execution_count": 2,
   "id": "thick-contract",
   "metadata": {},
   "outputs": [],
   "source": [
    "dir_in = '../../datos/datos_originales/'\n",
    "file1_in = 'Dataset5_Coronavirus_cases.txt'\n",
    "dir_out = '../../datos/datos_desarrollo'"
   ]
  },
  {
   "cell_type": "markdown",
   "id": "color-bishop",
   "metadata": {},
   "source": [
    "## Carga de datos "
   ]
  },
  {
   "cell_type": "code",
   "execution_count": 3,
   "id": "controlled-mattress",
   "metadata": {},
   "outputs": [],
   "source": [
    "df_coronavirus = pd.read_csv(os.path.join(dir_in, file1_in), sep = '|')"
   ]
  },
  {
   "cell_type": "markdown",
   "id": "billion-distinction",
   "metadata": {},
   "source": [
    "## Preprocesamiento "
   ]
  },
  {
   "cell_type": "markdown",
   "id": "surprised-communist",
   "metadata": {},
   "source": [
    "### Cambio de clases y eliminación de columnas innecesarias"
   ]
  },
  {
   "cell_type": "code",
   "execution_count": 4,
   "id": "early-magnet",
   "metadata": {},
   "outputs": [],
   "source": [
    "df_coronavirus.dateRep = pd.to_datetime(df_coronavirus.dateRep, format = '%d/%m/%Y')\n",
    "df_coronavirus.drop(['day', 'month', 'year'], axis = 1, inplace = True)"
   ]
  },
  {
   "cell_type": "code",
   "execution_count": 5,
   "id": "charged-great",
   "metadata": {},
   "outputs": [],
   "source": [
    "df_coronavirus.to_csv(os.path.join(dir_out, 'coronavirus_clean.csv'), sep = ';', index = False)"
   ]
  }
 ],
 "metadata": {
  "kernelspec": {
   "display_name": "Python 3",
   "language": "python",
   "name": "python3"
  },
  "language_info": {
   "codemirror_mode": {
    "name": "ipython",
    "version": 3
   },
   "file_extension": ".py",
   "mimetype": "text/x-python",
   "name": "python",
   "nbconvert_exporter": "python",
   "pygments_lexer": "ipython3",
   "version": "3.7.9"
  }
 },
 "nbformat": 4,
 "nbformat_minor": 5
}
