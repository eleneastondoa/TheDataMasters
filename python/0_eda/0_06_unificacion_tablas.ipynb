{
 "cells": [
  {
   "cell_type": "code",
   "execution_count": 10,
   "metadata": {},
   "outputs": [],
   "source": [
    "import pandas as pd\n",
    "import numpy as np\n",
    "import matplotlib.pyplot as plt\n",
    "import seaborn as sns\n",
    "import os"
   ]
  },
  {
   "cell_type": "markdown",
   "metadata": {},
   "source": [
    "## Ficheros y rutas de entrada/salida "
   ]
  },
  {
   "cell_type": "code",
   "execution_count": 11,
   "metadata": {},
   "outputs": [],
   "source": [
    "dir_in = '../../datos/datos_originales/'\n",
    "file1_in = 'Dataset2.- Precios Semanales Observatorio de Precios Junta de Andalucia.txt'\n",
    "file2_in = 'Temporada_productos.xlsx'\n",
    "file3_in = 'Dataset5_Coronavirus_cases.txt'\n",
    "file4_in = 'consumo_preproc.csv'\n",
    "dir_out = '../../datos/datos_desarrollo'"
   ]
  },
  {
   "cell_type": "markdown",
   "metadata": {},
   "source": [
    "## Carga de datos "
   ]
  },
  {
   "cell_type": "code",
   "execution_count": 12,
   "metadata": {
    "scrolled": true
   },
   "outputs": [],
   "source": [
    "df_precios = pd.read_csv(os.path.join(dir_in, file1_in), sep = '|')\n",
    "df_precios.columns = [columna.lower() for columna in df_precios.columns]\n",
    "df_temporadas = pd.read_excel(os.path.join(dir_out, file2_in))\n",
    "df_coronavirus = pd.read_csv(os.path.join(dir_in, file3_in), sep = '|')"
   ]
  },
  {
   "cell_type": "markdown",
   "metadata": {},
   "source": [
    "**02_precios y temporadas**"
   ]
  },
  {
   "cell_type": "code",
   "execution_count": 13,
   "metadata": {},
   "outputs": [],
   "source": [
    "df_precio_temporada=df_precios.merge(df_temporadas, how=\"left\", on=\"producto\")"
   ]
  },
  {
   "cell_type": "code",
   "execution_count": 14,
   "metadata": {},
   "outputs": [],
   "source": [
    "df_consumo = pd.read_csv(os.path.join(dir_out, file4_in), sep = ';')\n",
    "\n",
    "df_consumo.loc[df_consumo.producto.eq('Champiñoneso setas'), 'producto'] = 'Champiñones o setas'\n",
    "df_consumo.loc[df_consumo.producto.eq('Omates'), 'producto'] = 'Tomates'\n",
    "df_consumo.producto = df_consumo.producto.str.split('/', 1).str.get(0).str.lstrip('Otras').str.lstrip().str.capitalize()\n",
    "df_consumo.loc[df_consumo.producto.eq('Verd '), 'producto'] = 'Verduras'"
   ]
  },
  {
   "cell_type": "code",
   "execution_count": 15,
   "metadata": {},
   "outputs": [],
   "source": [
    "df_coronavirus['dateRep'] = pd.to_datetime(df_coronavirus['dateRep'])"
   ]
  },
  {
   "cell_type": "code",
   "execution_count": 16,
   "metadata": {},
   "outputs": [],
   "source": [
    "conditions = [\n",
    "    df_coronavirus['dateRep'].between(\"2020-03-01\", \"2020-06-01\"),\n",
    "    df_coronavirus['dateRep'].between(\"2020-06-02\", \"2020-09-01\"),\n",
    "    df_coronavirus['dateRep'].between(\"2020-09-02\", \"2020-12-10\"),\n",
    "    (df_coronavirus['dateRep'] > \"2020-12-10\")\n",
    "    ]\n",
    "\n",
    "values = ['Primera ola', 'Periodo de recuperación', 'Segunda ola', 'Tercera ola']\n",
    "values2 = ['Confinamiento', 'Nueva normalidad', 'Vuelta al trabajo', 'Navidad']\n",
    "df_coronavirus['Olas'] = np.select(conditions, values)\n",
    "df_coronavirus['Motivo_ola'] = np.select(conditions, values2)"
   ]
  },
  {
   "cell_type": "code",
   "execution_count": 17,
   "metadata": {},
   "outputs": [],
   "source": [
    "df_consumo_temp = df_consumo.merge(df_temporadas, on = 'producto', how = 'inner')\n",
    "df_consumo_temp.to_csv(os.path.join(dir_out, 'consumo_final.csv'), sep = ';', index = False)"
   ]
  }
 ],
 "metadata": {
  "kernelspec": {
   "display_name": "Python 3",
   "language": "python",
   "name": "python3"
  },
  "language_info": {
   "codemirror_mode": {
    "name": "ipython",
    "version": 3
   },
   "file_extension": ".py",
   "mimetype": "text/x-python",
   "name": "python",
   "nbconvert_exporter": "python",
   "pygments_lexer": "ipython3",
   "version": "3.7.9"
  }
 },
 "nbformat": 4,
 "nbformat_minor": 4
}
