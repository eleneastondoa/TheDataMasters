{
 "cells": [
  {
   "cell_type": "markdown",
   "id": "rapid-matter",
   "metadata": {},
   "source": [
    "Aquí estaría bien poner fotos de cajamar y así para dejar el script bonito"
   ]
  },
  {
   "cell_type": "code",
   "execution_count": 1,
   "id": "front-foster",
   "metadata": {},
   "outputs": [],
   "source": [
    "import pandas as pd\n",
    "import numpy as np\n",
    "import matplotlib.pyplot as plt\n",
    "import seaborn as sns\n",
    "import os\n",
    "import statsmodels.api as sm\n",
    "from statsmodels.tsa.seasonal import seasonal_decompose\n",
    "from statsmodels.tsa.holtwinters import SimpleExpSmoothing\n",
    "from statsmodels.tsa.holtwinters import ExponentialSmoothing\n",
    "from statsmodels.tsa.statespace.sarimax import SARIMAX \n",
    "import matplotlib\n",
    "import itertools\n",
    "from pylab import rcParams\n",
    "\n",
    "plt.style.use('fivethirtyeight')\n",
    "matplotlib.rcParams['axes.labelsize'] = 14\n",
    "matplotlib.rcParams['xtick.labelsize'] = 12\n",
    "matplotlib.rcParams['ytick.labelsize'] = 12\n",
    "matplotlib.rcParams['text.color'] = 'k'\n",
    "\n",
    "import warnings\n",
    "warnings.filterwarnings('ignore')"
   ]
  },
  {
   "cell_type": "markdown",
   "id": "modified-assist",
   "metadata": {},
   "source": [
    "## Ficheros y rutas de entrada/salida "
   ]
  },
  {
   "cell_type": "code",
   "execution_count": 102,
   "id": "confirmed-algorithm",
   "metadata": {},
   "outputs": [],
   "source": [
    "dir_in = '../../datos/datos_originales'\n",
    "file1_in = 'Dataset2.- Precios Semanales Observatorio de Precios Junta de Andalucia.txt'\n",
    "dir_out = '../../datos/datos_desarrollo'"
   ]
  },
  {
   "cell_type": "markdown",
   "id": "pleased-breed",
   "metadata": {},
   "source": [
    "## Carga de datos "
   ]
  },
  {
   "cell_type": "code",
   "execution_count": 103,
   "id": "administrative-conviction",
   "metadata": {},
   "outputs": [],
   "source": [
    "df_precios = pd.read_csv(os.path.join(dir_in, file1_in), sep = '|')\n",
    "df_precios.columns = df_precios.columns.str.lower()\n",
    "df_precios.producto = df_precios.producto.str.lower().str.replace('(', '', regex = False)\\\n",
    ".str.replace(')', '', regex = False).str.replace(' ','_',regex = False)"
   ]
  },
  {
   "cell_type": "markdown",
   "id": "southern-disposition",
   "metadata": {},
   "source": [
    "**Asignación de clases**"
   ]
  },
  {
   "cell_type": "code",
   "execution_count": 105,
   "id": "satisfied-brand",
   "metadata": {},
   "outputs": [],
   "source": [
    "df_precios[['inicio','fin']] = df_precios[['inicio','fin']].astype('datetime64[ns]')\n",
    "df_precios = df_precios.rename(columns={\"precio\": \"precio_euro_kg\"})\n",
    "\n",
    "df_precios['precio_euro_kg'] = df_precios['precio_euro_kg'].str.replace(',','.')\n",
    "df_precios['precio_euro_kg'] = df_precios['precio_euro_kg'].astype('float')\n",
    "\n",
    "df_precios = df_precios.drop(['categoria','formato','subtipo','unidad', 'grupo', 'posicion'], axis = 1)"
   ]
  },
  {
   "cell_type": "markdown",
   "id": "utility-teach",
   "metadata": {},
   "source": [
    "**Limpieza final del dataset**"
   ]
  },
  {
   "cell_type": "code",
   "execution_count": 109,
   "id": "induced-compound",
   "metadata": {},
   "outputs": [],
   "source": [
    "df_precios = df_precios[df_precios['tipo'] != 'NO DESIGNADO'].dropna(axis=0)\n",
    "df_precios['tipo'] = df_precios['tipo'].str.title()\n",
    "df_precios['producto'] = df_precios['producto'].str.title()\n",
    "b = df_precios.groupby(['sector','subsector','producto','tipo'])[['tipo','producto','sector','subsector','precio_euro_kg']].agg('mean')\n",
    "df_precios.to_csv('precios.csv')"
   ]
  }
 ],
 "metadata": {
  "kernelspec": {
   "display_name": "Python 3",
   "language": "python",
   "name": "python3"
  },
  "language_info": {
   "codemirror_mode": {
    "name": "ipython",
    "version": 3
   },
   "file_extension": ".py",
   "mimetype": "text/x-python",
   "name": "python",
   "nbconvert_exporter": "python",
   "pygments_lexer": "ipython3",
   "version": "3.7.9"
  }
 },
 "nbformat": 4,
 "nbformat_minor": 5
}
