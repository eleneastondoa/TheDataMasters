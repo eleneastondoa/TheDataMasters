{
 "cells": [
  {
   "cell_type": "markdown",
   "id": "suspended-accessory",
   "metadata": {},
   "source": [
    "<img src = 'fotos/logo_dani.jpeg'>"
   ]
  },
  {
   "cell_type": "code",
   "execution_count": 1,
   "id": "ecological-cherry",
   "metadata": {},
   "outputs": [],
   "source": [
    "import pandas as pd\n",
    "import numpy as np\n",
    "import matplotlib.pyplot as plt\n",
    "import seaborn as sns\n",
    "import os\n",
    "import statsmodels.api as sm\n",
    "from statsmodels.tsa.seasonal import seasonal_decompose\n",
    "from statsmodels.tsa.holtwinters import SimpleExpSmoothing\n",
    "from statsmodels.tsa.holtwinters import ExponentialSmoothing\n",
    "from statsmodels.tsa.statespace.sarimax import SARIMAX \n",
    "import itertools\n",
    "from IPython.display import clear_output\n",
    "from datetime import datetime\n",
    "\n",
    "import warnings\n",
    "warnings.filterwarnings('ignore')"
   ]
  },
  {
   "cell_type": "markdown",
   "id": "medical-architect",
   "metadata": {},
   "source": [
    "## Ficheros y rutas de entrada/salida "
   ]
  },
  {
   "cell_type": "code",
   "execution_count": 2,
   "id": "breeding-wages",
   "metadata": {},
   "outputs": [],
   "source": [
    "dir_in = '../../datos/datos_originales'\n",
    "file1_in = 'Dataset1.- DatosConsumoAlimentarioMAPAporCCAA.txt'\n",
    "dir_out = '../../datos/datos_desarrollo'"
   ]
  },
  {
   "cell_type": "markdown",
   "id": "accepting-split",
   "metadata": {},
   "source": [
    "## Carga de datos "
   ]
  },
  {
   "cell_type": "code",
   "execution_count": 3,
   "id": "arbitrary-petroleum",
   "metadata": {},
   "outputs": [
    {
     "data": {
      "text/plain": [
       "(26634, 10)"
      ]
     },
     "execution_count": 3,
     "metadata": {},
     "output_type": "execute_result"
    }
   ],
   "source": [
    "df_consumo = pd.read_csv(os.path.join(dir_in, file1_in), sep = '|').drop(['Unnamed: 10', 'Unnamed: 11'], axis = 1)\n",
    "df_consumo.shape"
   ]
  },
  {
   "cell_type": "code",
   "execution_count": 4,
   "id": "radio-remove",
   "metadata": {},
   "outputs": [
    {
     "data": {
      "text/html": [
       "<div>\n",
       "<style scoped>\n",
       "    .dataframe tbody tr th:only-of-type {\n",
       "        vertical-align: middle;\n",
       "    }\n",
       "\n",
       "    .dataframe tbody tr th {\n",
       "        vertical-align: top;\n",
       "    }\n",
       "\n",
       "    .dataframe thead th {\n",
       "        text-align: right;\n",
       "    }\n",
       "</style>\n",
       "<table border=\"1\" class=\"dataframe\">\n",
       "  <thead>\n",
       "    <tr style=\"text-align: right;\">\n",
       "      <th></th>\n",
       "      <th>Año</th>\n",
       "      <th>Mes</th>\n",
       "      <th>CCAA</th>\n",
       "      <th>Producto</th>\n",
       "      <th>Volumen (miles de kg)</th>\n",
       "      <th>Valor (miles de €)</th>\n",
       "      <th>Precio medio kg</th>\n",
       "      <th>Penetración (%)</th>\n",
       "      <th>Consumo per capita</th>\n",
       "      <th>Gasto per capita</th>\n",
       "    </tr>\n",
       "  </thead>\n",
       "  <tbody>\n",
       "    <tr>\n",
       "      <th>21011</th>\n",
       "      <td>2020</td>\n",
       "      <td>Enero</td>\n",
       "      <td>Total Nacional</td>\n",
       "      <td>T.HORTALIZAS FRESCAS</td>\n",
       "      <td>215831,81</td>\n",
       "      <td>421389,55</td>\n",
       "      <td>1,95</td>\n",
       "      <td>97,02</td>\n",
       "      <td>4,87</td>\n",
       "      <td>9,51</td>\n",
       "    </tr>\n",
       "    <tr>\n",
       "      <th>21929</th>\n",
       "      <td>2020</td>\n",
       "      <td>Febrero</td>\n",
       "      <td>Total Nacional</td>\n",
       "      <td>T.HORTALIZAS FRESCAS</td>\n",
       "      <td>226022,12</td>\n",
       "      <td>430847,66</td>\n",
       "      <td>1,91</td>\n",
       "      <td>96,53</td>\n",
       "      <td>5,1</td>\n",
       "      <td>9,72</td>\n",
       "    </tr>\n",
       "    <tr>\n",
       "      <th>22847</th>\n",
       "      <td>2020</td>\n",
       "      <td>Marzo</td>\n",
       "      <td>Total Nacional</td>\n",
       "      <td>T.HORTALIZAS FRESCAS</td>\n",
       "      <td>257552,9</td>\n",
       "      <td>498665,95</td>\n",
       "      <td>1,94</td>\n",
       "      <td>97,66</td>\n",
       "      <td>5,81</td>\n",
       "      <td>11,25</td>\n",
       "    </tr>\n",
       "    <tr>\n",
       "      <th>23765</th>\n",
       "      <td>2020</td>\n",
       "      <td>Abril</td>\n",
       "      <td>Total Nacional</td>\n",
       "      <td>T.HORTALIZAS FRESCAS</td>\n",
       "      <td>303814,22</td>\n",
       "      <td>618817,73</td>\n",
       "      <td>2,04</td>\n",
       "      <td>98,26</td>\n",
       "      <td>6,86</td>\n",
       "      <td>13,97</td>\n",
       "    </tr>\n",
       "    <tr>\n",
       "      <th>24683</th>\n",
       "      <td>2020</td>\n",
       "      <td>Mayo</td>\n",
       "      <td>Total Nacional</td>\n",
       "      <td>T.HORTALIZAS FRESCAS</td>\n",
       "      <td>288906,8</td>\n",
       "      <td>565957,25</td>\n",
       "      <td>1,96</td>\n",
       "      <td>98,05</td>\n",
       "      <td>6,52</td>\n",
       "      <td>12,77</td>\n",
       "    </tr>\n",
       "    <tr>\n",
       "      <th>25601</th>\n",
       "      <td>2020</td>\n",
       "      <td>Junio</td>\n",
       "      <td>Total Nacional</td>\n",
       "      <td>T.HORTALIZAS FRESCAS</td>\n",
       "      <td>247215,64</td>\n",
       "      <td>471135,44</td>\n",
       "      <td>1,91</td>\n",
       "      <td>97,59</td>\n",
       "      <td>5,58</td>\n",
       "      <td>10,63</td>\n",
       "    </tr>\n",
       "    <tr>\n",
       "      <th>26536</th>\n",
       "      <td>2020</td>\n",
       "      <td>Julio</td>\n",
       "      <td>Total Nacional</td>\n",
       "      <td>T.HORTALIZAS FRESCAS</td>\n",
       "      <td>242399,04</td>\n",
       "      <td>448389,61</td>\n",
       "      <td>1,85</td>\n",
       "      <td>NaN</td>\n",
       "      <td>5,46</td>\n",
       "      <td>10,11</td>\n",
       "    </tr>\n",
       "    <tr>\n",
       "      <th>26560</th>\n",
       "      <td>2020</td>\n",
       "      <td>Agosto</td>\n",
       "      <td>Total Nacional</td>\n",
       "      <td>T.HORTALIZAS FRESCAS</td>\n",
       "      <td>217270,54</td>\n",
       "      <td>409019,27</td>\n",
       "      <td>1,88</td>\n",
       "      <td>NaN</td>\n",
       "      <td>4,90</td>\n",
       "      <td>9,23</td>\n",
       "    </tr>\n",
       "    <tr>\n",
       "      <th>26584</th>\n",
       "      <td>2020</td>\n",
       "      <td>Septiembre</td>\n",
       "      <td>Total Nacional</td>\n",
       "      <td>T.HORTALIZAS FRESCAS</td>\n",
       "      <td>244130,14</td>\n",
       "      <td>477824,67</td>\n",
       "      <td>1,96</td>\n",
       "      <td>NaN</td>\n",
       "      <td>5,50</td>\n",
       "      <td>10,78</td>\n",
       "    </tr>\n",
       "    <tr>\n",
       "      <th>26608</th>\n",
       "      <td>2020</td>\n",
       "      <td>Octubre</td>\n",
       "      <td>Total Nacional</td>\n",
       "      <td>T.HORTALIZAS FRESCAS</td>\n",
       "      <td>251090,91</td>\n",
       "      <td>496897,93</td>\n",
       "      <td>1,98</td>\n",
       "      <td>NaN</td>\n",
       "      <td>5,66</td>\n",
       "      <td>11,21</td>\n",
       "    </tr>\n",
       "    <tr>\n",
       "      <th>26632</th>\n",
       "      <td>2020</td>\n",
       "      <td>Noviembre</td>\n",
       "      <td>Total Nacional</td>\n",
       "      <td>T.HORTALIZAS FRESCAS</td>\n",
       "      <td>238554,47</td>\n",
       "      <td>472592,86</td>\n",
       "      <td>1,98</td>\n",
       "      <td>NaN</td>\n",
       "      <td>5,38</td>\n",
       "      <td>10,66</td>\n",
       "    </tr>\n",
       "  </tbody>\n",
       "</table>\n",
       "</div>"
      ],
      "text/plain": [
       "        Año         Mes            CCAA              Producto  \\\n",
       "21011  2020       Enero  Total Nacional  T.HORTALIZAS FRESCAS   \n",
       "21929  2020     Febrero  Total Nacional  T.HORTALIZAS FRESCAS   \n",
       "22847  2020       Marzo  Total Nacional  T.HORTALIZAS FRESCAS   \n",
       "23765  2020       Abril  Total Nacional  T.HORTALIZAS FRESCAS   \n",
       "24683  2020        Mayo  Total Nacional  T.HORTALIZAS FRESCAS   \n",
       "25601  2020       Junio  Total Nacional  T.HORTALIZAS FRESCAS   \n",
       "26536  2020       Julio  Total Nacional  T.HORTALIZAS FRESCAS   \n",
       "26560  2020      Agosto  Total Nacional  T.HORTALIZAS FRESCAS   \n",
       "26584  2020  Septiembre  Total Nacional  T.HORTALIZAS FRESCAS   \n",
       "26608  2020     Octubre  Total Nacional  T.HORTALIZAS FRESCAS   \n",
       "26632  2020   Noviembre  Total Nacional  T.HORTALIZAS FRESCAS   \n",
       "\n",
       "      Volumen (miles de kg) Valor (miles de €) Precio medio kg  \\\n",
       "21011             215831,81          421389,55            1,95   \n",
       "21929             226022,12          430847,66            1,91   \n",
       "22847              257552,9          498665,95            1,94   \n",
       "23765             303814,22          618817,73            2,04   \n",
       "24683              288906,8          565957,25            1,96   \n",
       "25601             247215,64          471135,44            1,91   \n",
       "26536             242399,04          448389,61            1,85   \n",
       "26560             217270,54          409019,27            1,88   \n",
       "26584             244130,14          477824,67            1,96   \n",
       "26608             251090,91          496897,93            1,98   \n",
       "26632             238554,47          472592,86            1,98   \n",
       "\n",
       "      Penetración (%) Consumo per capita Gasto per capita  \n",
       "21011           97,02               4,87             9,51  \n",
       "21929           96,53                5,1             9,72  \n",
       "22847           97,66               5,81            11,25  \n",
       "23765           98,26               6,86            13,97  \n",
       "24683           98,05               6,52            12,77  \n",
       "25601           97,59               5,58            10,63  \n",
       "26536             NaN               5,46            10,11  \n",
       "26560             NaN               4,90             9,23  \n",
       "26584             NaN               5,50            10,78  \n",
       "26608             NaN               5,66            11,21  \n",
       "26632             NaN               5,38            10,66  "
      ]
     },
     "execution_count": 4,
     "metadata": {},
     "output_type": "execute_result"
    }
   ],
   "source": [
    "df_consumo[(df_consumo['Año']==2020)&(df_consumo['CCAA']=='Total Nacional')&(df_consumo['Producto']=='T.HORTALIZAS FRESCAS')]"
   ]
  },
  {
   "cell_type": "code",
   "execution_count": 5,
   "id": "systematic-looking",
   "metadata": {},
   "outputs": [],
   "source": [
    "df_consumo.columns = df_consumo.columns.str.lower().str.replace('[\\()]', '', regex = True).str.replace(' ', '_')\n",
    "df_consumo.iloc[:, 4:] = df_consumo.iloc[:, 4:].apply(lambda x: x.str.replace(',','.'))\n",
    "df_consumo.iloc[:, 4:] = df_consumo.iloc[:, 4:].astype(float)\n",
    "\n",
    "df_consumo[['producto', 'ccaa']] = df_consumo[['producto', 'ccaa']].apply(lambda x: x\\\n",
    "                                                                          .str.lower().str.replace('+', '', regex = False)\\\n",
    "                                                                          .str.replace('total', '', regex = False)\\\n",
    "                                                                          .str.replace('.', ' ', regex = False)\\\n",
    "                                                                          .str.lstrip('t')\\\n",
    "                                                                          .str.lstrip(' ').str.capitalize())"
   ]
  },
  {
   "cell_type": "code",
   "execution_count": null,
   "id": "incredible-instrument",
   "metadata": {},
   "outputs": [],
   "source": [
    "month_num = {'Enero': '01', 'Febrero': '02', 'Marzo': '03', 'Abril': '04', 'Mayo': '05', 'Junio': '06', 'Julio': '07', 'Agosto': '08',\n",
    "             'Septiembre': '09', 'Octubre': '10', 'Noviembre': '11', 'Diciembre': '12'}\n",
    "df_consumo['mes'].replace(month_num, inplace = True)\n",
    "\n",
    "df_consumo['date'] = df_consumo['año'].astype(str) + '-' + df_consumo['mes'].astype(str) + '-01'\n",
    "df_consumo.date = pd.to_datetime(df_consumo.date, format = '%Y-%m-%d')"
   ]
  },
  {
   "cell_type": "markdown",
   "id": "velvet-rochester",
   "metadata": {},
   "source": [
    "### Asignación de clases"
   ]
  },
  {
   "cell_type": "code",
   "execution_count": null,
   "id": "liable-receptor",
   "metadata": {},
   "outputs": [],
   "source": [
    "df_consumo[(df_consumo['date']>'2020-01-01')&(df_consumo['ccaa']=='Nacional')&(df_consumo['producto']=='Hortalizas frescas')];"
   ]
  },
  {
   "cell_type": "code",
   "execution_count": null,
   "id": "obvious-swiss",
   "metadata": {},
   "outputs": [],
   "source": [
    "df_consumo.producto.unique()"
   ]
  },
  {
   "cell_type": "code",
   "execution_count": null,
   "id": "voluntary-machinery",
   "metadata": {
    "scrolled": true
   },
   "outputs": [],
   "source": [
    "df_consumo.date.min()"
   ]
  },
  {
   "cell_type": "markdown",
   "id": "serious-recognition",
   "metadata": {},
   "source": [
    "### Creación de columnas "
   ]
  },
  {
   "cell_type": "code",
   "execution_count": null,
   "id": "sexual-controversy",
   "metadata": {},
   "outputs": [],
   "source": [
    "conditions = [\n",
    "    df_consumo['date'].between(\"2020-03-01\", \"2020-06-01\"),\n",
    "    df_consumo['date'].between(\"2020-06-02\", \"2020-09-01\"),\n",
    "    df_consumo['date'].between(\"2020-09-02\", \"2020-12-10\"),\n",
    "    (df_consumo['date'] > \"2020-12-10\")\n",
    "    ]\n",
    "\n",
    "values = ['Primera ola', 'Periodo de recuperación', 'Segunda ola', 'Tercera ola']\n",
    "values2 = ['Confinamiento', 'Nueva normalidad', 'Vuelta al trabajo', 'Navidad']\n",
    "df_consumo['Olas'] = np.select(conditions, values, default = 'Pre-covid')\n",
    "df_consumo['Motivo_ola'] = np.select(conditions, values2, default = 'Pre-covid')"
   ]
  },
  {
   "cell_type": "code",
   "execution_count": null,
   "id": "joined-retirement",
   "metadata": {},
   "outputs": [],
   "source": [
    "df_consumo.to_csv(os.path.join(dir_out, 'consumo_preproc.csv'), sep = ';', index = False)"
   ]
  }
 ],
 "metadata": {
  "kernelspec": {
   "display_name": "Python 3",
   "language": "python",
   "name": "python3"
  },
  "language_info": {
   "codemirror_mode": {
    "name": "ipython",
    "version": 3
   },
   "file_extension": ".py",
   "mimetype": "text/x-python",
   "name": "python",
   "nbconvert_exporter": "python",
   "pygments_lexer": "ipython3",
   "version": "3.7.9"
  }
 },
 "nbformat": 4,
 "nbformat_minor": 5
}
