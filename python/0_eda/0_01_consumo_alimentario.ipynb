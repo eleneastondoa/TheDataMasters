{
 "cells": [
  {
   "cell_type": "markdown",
   "id": "boolean-training",
   "metadata": {},
   "source": [
    "<img src = 'fotos/logo_dani.jpeg'>"
   ]
  },
  {
   "cell_type": "code",
   "execution_count": 1,
   "id": "allied-authorization",
   "metadata": {},
   "outputs": [],
   "source": [
    "import pandas as pd\n",
    "import numpy as np\n",
    "import matplotlib.pyplot as plt\n",
    "import seaborn as sns\n",
    "import os\n",
    "import statsmodels.api as sm\n",
    "from statsmodels.tsa.seasonal import seasonal_decompose\n",
    "from statsmodels.tsa.holtwinters import SimpleExpSmoothing\n",
    "from statsmodels.tsa.holtwinters import ExponentialSmoothing\n",
    "from statsmodels.tsa.statespace.sarimax import SARIMAX \n",
    "import itertools\n",
    "from IPython.display import clear_output\n",
    "\n",
    "import warnings\n",
    "warnings.filterwarnings('ignore')"
   ]
  },
  {
   "cell_type": "markdown",
   "id": "proved-double",
   "metadata": {},
   "source": [
    "## Ficheros y rutas de entrada/salida "
   ]
  },
  {
   "cell_type": "code",
   "execution_count": 2,
   "id": "accepting-nitrogen",
   "metadata": {},
   "outputs": [],
   "source": [
    "dir_in = '../../datos/datos_originales'\n",
    "file1_in = 'Dataset1.- DatosConsumoAlimentarioMAPAporCCAA.txt'\n",
    "dir_out = '../../datos/datos_desarrollo'"
   ]
  },
  {
   "cell_type": "markdown",
   "id": "pending-guard",
   "metadata": {},
   "source": [
    "## Carga de datos "
   ]
  },
  {
   "cell_type": "code",
   "execution_count": 3,
   "id": "recovered-citizenship",
   "metadata": {},
   "outputs": [
    {
     "data": {
      "text/plain": [
       "(26634, 10)"
      ]
     },
     "execution_count": 3,
     "metadata": {},
     "output_type": "execute_result"
    }
   ],
   "source": [
    "df_consumo = pd.read_csv(os.path.join(dir_in, file1_in), sep = '|').drop(['Unnamed: 10', 'Unnamed: 11'], axis = 1)\n",
    "df_consumo.shape"
   ]
  },
  {
   "cell_type": "code",
   "execution_count": 4,
   "id": "fundamental-triumph",
   "metadata": {},
   "outputs": [],
   "source": [
    "df_consumo.columns = df_consumo.columns.str.lower().str.replace('[\\()]', '', regex = True).str.replace(' ', '_')\n",
    "df_consumo.iloc[:, 4:] = df_consumo.iloc[:, 4:].apply(lambda x: x.str.replace(',','.'))\n",
    "df_consumo.iloc[:, 4:] = df_consumo.iloc[:, 4:].astype(float)\n",
    "\n",
    "df_consumo[['producto', 'ccaa']] = df_consumo[['producto', 'ccaa']].apply(lambda x: x\\\n",
    "                                                                          .str.lower().str.replace('+', '', regex = False)\\\n",
    "                                                                          .str.replace('total', '', regex = False)\\\n",
    "                                                                          .str.replace('.', ' ', regex = False)\\\n",
    "                                                                          .str.lstrip('t')\\\n",
    "                                                                          .str.lstrip(' ').str.capitalize())"
   ]
  },
  {
   "cell_type": "markdown",
   "id": "modified-congress",
   "metadata": {},
   "source": [
    "### Asignación de clases"
   ]
  },
  {
   "cell_type": "code",
   "execution_count": 5,
   "id": "narrative-trash",
   "metadata": {},
   "outputs": [],
   "source": [
    "df_consumo['month'] = np.where((df_consumo['mes']=='Enero'),1,df_consumo['mes'])\n",
    "n = 1\n",
    "for k in list(df_consumo.mes.unique()):\n",
    "    df_consumo['month'] = np.where((df_consumo['month']==k),n,df_consumo['month'])\n",
    "    n += 1\n",
    "    \n",
    "df_consumo['month'] = df_consumo['month'].astype('int')\n",
    "df_consumo['date'] = pd.to_datetime(df_consumo.año.astype(str) + '/' + df_consumo.month.astype(str) + '/01')\n",
    "df_consumo = df_consumo.drop(['month','año','mes'], axis = 1)"
   ]
  },
  {
   "cell_type": "markdown",
   "id": "speaking-western",
   "metadata": {},
   "source": [
    "### Creación de columnas "
   ]
  },
  {
   "cell_type": "code",
   "execution_count": 6,
   "id": "numeric-psychology",
   "metadata": {},
   "outputs": [],
   "source": [
    "conditions = [\n",
    "    df_consumo['date'].between(\"2020-03-01\", \"2020-06-01\"),\n",
    "    df_consumo['date'].between(\"2020-06-02\", \"2020-09-01\"),\n",
    "    df_consumo['date'].between(\"2020-09-02\", \"2020-12-10\"),\n",
    "    (df_consumo['date'] > \"2020-12-10\")\n",
    "    ]\n",
    "\n",
    "values = ['Primera ola', 'Periodo de recuperación', 'Segunda ola', 'Tercera ola']\n",
    "values2 = ['Confinamiento', 'Nueva normalidad', 'Vuelta al trabajo', 'Navidad']\n",
    "df_consumo['Olas'] = np.select(conditions, values, default = 'Pre-covid')\n",
    "df_consumo['Motivo_ola'] = np.select(conditions, values2, default = 'Pre-covid')"
   ]
  },
  {
   "cell_type": "code",
   "execution_count": 7,
   "id": "australian-fitting",
   "metadata": {},
   "outputs": [],
   "source": [
    "df_consumo.to_csv(os.path.join(dir_out, 'consumo_preproc.csv'), sep = ';', index = False)"
   ]
  }
 ],
 "metadata": {
  "kernelspec": {
   "display_name": "Python 3",
   "language": "python",
   "name": "python3"
  },
  "language_info": {
   "codemirror_mode": {
    "name": "ipython",
    "version": 3
   },
   "file_extension": ".py",
   "mimetype": "text/x-python",
   "name": "python",
   "nbconvert_exporter": "python",
   "pygments_lexer": "ipython3",
   "version": "3.7.9"
  }
 },
 "nbformat": 4,
 "nbformat_minor": 5
}
