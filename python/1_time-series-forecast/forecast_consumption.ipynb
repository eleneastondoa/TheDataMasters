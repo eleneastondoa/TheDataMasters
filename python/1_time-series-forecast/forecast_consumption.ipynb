{
 "cells": [
  {
   "cell_type": "code",
   "execution_count": 2,
   "id": "simplified-welsh",
   "metadata": {},
   "outputs": [],
   "source": [
    "import pandas as pd\n",
    "import numpy as np\n",
    "import matplotlib.pyplot as plt\n",
    "import seaborn as sns\n",
    "import os\n",
    "import statsmodels.api as sm\n",
    "from statsmodels.tsa.seasonal import seasonal_decompose\n",
    "from statsmodels.tsa.holtwinters import SimpleExpSmoothing\n",
    "from statsmodels.tsa.holtwinters import ExponentialSmoothing\n",
    "from statsmodels.tsa.statespace.sarimax import SARIMAX \n",
    "import itertools\n",
    "import random\n",
    "from IPython.display import clear_output\n",
    "from sklearn.metrics import mean_squared_error\n",
    "\n",
    "import warnings\n",
    "warnings.filterwarnings('ignore')"
   ]
  },
  {
   "cell_type": "markdown",
   "id": "electrical-entrepreneur",
   "metadata": {},
   "source": [
    "## Ficheros y rutas de entrada/salida "
   ]
  },
  {
   "cell_type": "code",
   "execution_count": 3,
   "id": "external-sharing",
   "metadata": {},
   "outputs": [],
   "source": [
    "dir_in = '../../datos/datos_desarrollo'\n",
    "file1_in = 'consumo_final.csv'\n",
    "dir_out = dir_in"
   ]
  },
  {
   "cell_type": "markdown",
   "id": "entire-portfolio",
   "metadata": {},
   "source": [
    "## Carga de datos "
   ]
  },
  {
   "cell_type": "code",
   "execution_count": 4,
   "id": "fifteen-saturn",
   "metadata": {},
   "outputs": [],
   "source": [
    "df_consumo = pd.read_csv(os.path.join(dir_in, file1_in), sep = ';')\n",
    "df_consumo.columns = [columna.lower() for columna in df_consumo.columns]\n",
    "df_consumo.rename(columns = {'fecha_inicio': 'mes_inicio_temp', 'fecha_fin': 'mes_fin_temp'}, inplace = True)\n",
    "df_consumo.date = df_consumo.date.astype('datetime64[ns]')"
   ]
  },
  {
   "cell_type": "code",
   "execution_count": 5,
   "id": "binary-faculty",
   "metadata": {},
   "outputs": [],
   "source": [
    "precio_model = df_consumo[['ccaa', 'producto', 'volumen_miles_de_kg', 'valor_miles_de_€', 'precio_medio_kg', 'date']]\n",
    "cmpl_model_dict = {product: {comunidad: precio_model[(precio_model.producto.eq(product))&\n",
    "                                                      (precio_model.ccaa.eq(comunidad))].drop(['producto', 'ccaa'], axis = 1)\n",
    "                              for comunidad in precio_model.ccaa.unique()} for product in precio_model.producto.unique()}"
   ]
  },
  {
   "cell_type": "code",
   "execution_count": 6,
   "id": "naval-uruguay",
   "metadata": {},
   "outputs": [],
   "source": [
    "def best_sarima(variable, p = 2, d = 1, q = 0, P = 0, D = 0, Q = 3, m = 12):\n",
    "    try:\n",
    "        len(predicciones)\n",
    "    except NameError:\n",
    "        predicciones = pd.DataFrame(columns = ['ccaa', 'producto'])\n",
    "    vuelta_general = 1\n",
    "    for k, v in cmpl_model_dict.items():\n",
    "        n_comunidad = 1\n",
    "        for comunidad in v.keys():\n",
    "            print('Tienes', len(cmpl_model_dict), 'productos y vas por el', vuelta_general, \n",
    "                  '. Este producto tiene', len(v), 'comunidades y vas por la', n_comunidad,\n",
    "                 '. La variable es', variable)\n",
    "            timeseries_data = cmpl_model_dict[k][comunidad][[variable, 'date']].copy()\n",
    "            timeseries_data.index = pd.DatetimeIndex(timeseries_data.date)\n",
    "            timeseries_data.drop('date', axis = 1, inplace = True)\n",
    "            timeseries_data.sort_index(inplace = True)\n",
    "\n",
    "            train = timeseries_data.loc[timeseries_data.index <= '2020-02-01']\n",
    "            test = timeseries_data.loc[timeseries_data.index > '2020-02-01']\n",
    "\n",
    "            mod = SARIMAX(train, \n",
    "                order = [p, d, q],\n",
    "                seasonal_order = [P, D, Q, m], \n",
    "                enforce_stationarity = False,\n",
    "                enforce_invertibility = False)\n",
    "\n",
    "            result = mod.fit()\n",
    "            ypred = result.get_forecast(steps = len(test))\n",
    "            ypred_df = pd.DataFrame(ypred.predicted_mean).rename(columns = {'predicted_mean': str(variable) + '_predicted'})\n",
    "            pred_ci = ypred.conf_int()\n",
    "            pred_ci_df = pd.concat([ypred_df, pred_ci], axis = 1)\n",
    "            pred_ci_df[['ccaa', 'producto']] = comunidad, k\n",
    "\n",
    "            predicciones = pd.concat([predicciones, pred_ci_df], axis = 0)\n",
    "            n_comunidad += 1\n",
    "            clear_output(wait = True)\n",
    "        vuelta_general += 1\n",
    "    return predicciones"
   ]
  },
  {
   "cell_type": "code",
   "execution_count": 7,
   "id": "optional-wayne",
   "metadata": {},
   "outputs": [
    {
     "name": "stdout",
     "output_type": "stream",
     "text": [
      "Tienes 50 productos y vas por el 50 . Este producto tiene 18 comunidades y vas por la 18 . La variable es precio_medio_kg\n"
     ]
    }
   ],
   "source": [
    "df_peque = best_sarima('volumen_miles_de_kg')\n",
    "df_medi = pd.concat([df_peque, best_sarima('valor_miles_de_€')], axis = 1)\n",
    "df_gran = pd.concat([df_medi, best_sarima('precio_medio_kg')], axis = 1)"
   ]
  },
  {
   "cell_type": "code",
   "execution_count": 9,
   "id": "respected-rendering",
   "metadata": {},
   "outputs": [],
   "source": [
    "df_final = df_gran.T.drop_duplicates().T\n",
    "df_final.to_csv(os.path.join(dir_out, 'predicciones_consumo.csv'), sep = ';')"
   ]
  }
 ],
 "metadata": {
  "kernelspec": {
   "display_name": "Python 3",
   "language": "python",
   "name": "python3"
  },
  "language_info": {
   "codemirror_mode": {
    "name": "ipython",
    "version": 3
   },
   "file_extension": ".py",
   "mimetype": "text/x-python",
   "name": "python",
   "nbconvert_exporter": "python",
   "pygments_lexer": "ipython3",
   "version": "3.7.9"
  }
 },
 "nbformat": 4,
 "nbformat_minor": 5
}
