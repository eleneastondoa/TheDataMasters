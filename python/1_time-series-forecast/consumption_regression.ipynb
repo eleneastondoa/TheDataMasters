{
 "cells": [
  {
   "cell_type": "markdown",
   "id": "organized-tyler",
   "metadata": {},
   "source": [
    "<img src = 'fotos/logo_dani.jpeg'>"
   ]
  },
  {
   "cell_type": "code",
   "execution_count": 1,
   "id": "local-improvement",
   "metadata": {},
   "outputs": [
    {
     "name": "stderr",
     "output_type": "stream",
     "text": [
      "C:\\Users\\unito\\Anaconda3\\lib\\site-packages\\tpot\\builtins\\__init__.py:36: UserWarning: Warning: optional dependency `torch` is not available. - skipping import of NN models.\n",
      "  warnings.warn(\"Warning: optional dependency `torch` is not available. - skipping import of NN models.\")\n"
     ]
    }
   ],
   "source": [
    "import pandas as pd\n",
    "import numpy as np\n",
    "import os\n",
    "from datetime import datetime\n",
    "import itertools\n",
    "import pickle\n",
    "\n",
    "from sklearn.preprocessing import MinMaxScaler, OneHotEncoder\n",
    "from sklearn.experimental import enable_halving_search_cv\n",
    "from sklearn.model_selection import train_test_split, GridSearchCV, cross_val_score, HalvingGridSearchCV\n",
    "from sklearn.metrics import r2_score, mean_absolute_error\n",
    "from catboost import CatBoostRegressor\n",
    "import tpot\n",
    "from tpot import TPOTRegressor\n",
    "\n",
    "from IPython.display import clear_output\n",
    "import seaborn as sns\n",
    "\n",
    "import warnings\n",
    "warnings.filterwarnings('ignore')"
   ]
  },
  {
   "cell_type": "markdown",
   "id": "inclusive-reynolds",
   "metadata": {},
   "source": [
    "## Ficheros y rutas de entrada/salida "
   ]
  },
  {
   "cell_type": "code",
   "execution_count": 2,
   "id": "funded-opposition",
   "metadata": {},
   "outputs": [],
   "source": [
    "dir_in = '../../datos/datos_desarrollo'\n",
    "file1_in = 'consumo_final.csv'\n",
    "dir_out = dir_in"
   ]
  },
  {
   "cell_type": "markdown",
   "id": "original-traffic",
   "metadata": {},
   "source": [
    "## Carga de datos "
   ]
  },
  {
   "cell_type": "code",
   "execution_count": 3,
   "id": "chinese-skiing",
   "metadata": {},
   "outputs": [],
   "source": [
    "df_consumo = pd.read_csv(os.path.join(dir_in, file1_in), sep = ';')\n",
    "df_consumo.columns = [columna.lower() for columna in df_consumo.columns]\n",
    "df_consumo.rename(columns = {'fecha_inicio': 'mes_inicio_temp', 'fecha_fin': 'mes_fin_temp'}, inplace = True)\n",
    "df_consumo.date = pd.to_datetime(df_consumo.date, format = '%Y-%m-%d')\n",
    "precio_model = df_consumo[['ccaa', 'producto', 'volumen_miles_de_kg', 'valor_miles_de_€', 'precio_medio_kg', 'date']]"
   ]
  },
  {
   "cell_type": "code",
   "execution_count": 4,
   "id": "social-terry",
   "metadata": {},
   "outputs": [
    {
     "data": {
      "text/plain": [
       "<AxesSubplot:>"
      ]
     },
     "execution_count": 4,
     "metadata": {},
     "output_type": "execute_result"
    },
    {
     "data": {
      "image/png": "[encoded data removed]",
      "text/plain": [
       "<Figure size 432x288 with 2 Axes>"
      ]
     },
     "metadata": {
      "needs_background": "light"
     },
     "output_type": "display_data"
    }
   ],
   "source": [
    "corr_df = precio_model.corr()\n",
    "corr_df = round(corr_df, 2)\n",
    "mask_ut = np.triu(np.ones(corr_df.shape)).astype(np.bool)\n",
    "sns.heatmap(corr_df, mask = mask_ut, cmap = 'Blues', annot = True)"
   ]
  },
  {
   "cell_type": "markdown",
   "id": "caroline-yellow",
   "metadata": {},
   "source": [
    "## CATBOOST"
   ]
  },
  {
   "cell_type": "markdown",
   "id": "derived-speaker",
   "metadata": {},
   "source": [
    "### Partición de los datos (catboost)"
   ]
  },
  {
   "cell_type": "code",
   "execution_count": null,
   "id": "laden-knock",
   "metadata": {},
   "outputs": [],
   "source": [
    "regress_model_dict = {product: precio_model[(precio_model.producto == product) & (precio_model.date < '2020-03-01')]\\\n",
    "                      .drop(columns = ['date', 'producto']) for product in precio_model.producto.unique()}\n",
    "\n",
    "X = np.delete(regress_model_dict['Patatas'].values, 2, axis = 1)\n",
    "Y = regress_model_dict['Patatas'].values[:, 2]\n",
    "X_train, X_test, Y_train, Y_test = train_test_split(X, Y, test_size=0.2, random_state=0) \n",
    "scaler = MinMaxScaler().fit(X_train[:, 1:])\n",
    "xtr_scaled = scaler.transform(X_train[:, 1:])\n",
    "xte_scaled = scaler.transform(X_test[:, 1:])\n",
    "xtr_final = np.concatenate((X_train[:, 0].reshape(-1, 1), xtr_scaled), axis = 1)\n",
    "xte_final = np.concatenate((X_test[:, 0].reshape(-1, 1), xte_scaled), axis = 1)"
   ]
  },
  {
   "cell_type": "code",
   "execution_count": null,
   "id": "treated-newton",
   "metadata": {},
   "outputs": [],
   "source": [
    "def modelaje(xtr, ytr, categorical_indices_features, model, param_grid, score):\n",
    "    try:\n",
    "        modelo = model(random_state = 0, silent = True, cat_features = categorical_indices_features)\n",
    "    except:\n",
    "        modelo = model(random_state = 0)\n",
    "    if len(param_grid) == 0:\n",
    "        cv = cross_val_score(estimator = model, cv = 10, scoring = score, X = xtr, y = ytr, n_jobs = 4, random_state = 0).mean()\n",
    "        best_model = model.fit(xtr, ytr)\n",
    "        best_score = cv\n",
    "        best_params = 'Default'\n",
    "    else:\n",
    "        gscv = HalvingGridSearchCV(estimator = modelo, param_grid = param_grid, cv = 10, scoring = score, random_state = 0).fit(xtr, ytr)\n",
    "        best_model = gscv.best_estimator_\n",
    "        best_score = gscv.best_score_ \n",
    "        best_params = gscv.best_params_\n",
    "        sd_cv = np.std(cross_val_score(estimator = best_model, X = xtr, y = ytr, scoring = score, cv = 10))\n",
    "    \n",
    "    return best_model, best_score, best_params, sd_cv"
   ]
  },
  {
   "cell_type": "code",
   "execution_count": null,
   "id": "fatal-crossing",
   "metadata": {},
   "outputs": [],
   "source": [
    "param_grid = {'task_type': ['GPU']}\n",
    "best_model_CAT, best_score_CAT, best_params_CAT, sd_cv_CAT = modelaje(xtr_final, Y_train, [0], CatBoostRegressor, param_grid, 'r2')"
   ]
  },
  {
   "cell_type": "code",
   "execution_count": null,
   "id": "tropical-behalf",
   "metadata": {},
   "outputs": [],
   "source": [
    "ypred = best_model_CAT.predict(X_test)\n",
    "mean_absolute_error(Y_test, ypred)"
   ]
  },
  {
   "cell_type": "markdown",
   "id": "fabulous-noise",
   "metadata": {},
   "source": [
    "## TPOT "
   ]
  },
  {
   "cell_type": "markdown",
   "id": "subtle-seating",
   "metadata": {},
   "source": [
    "### Partición de los datos "
   ]
  },
  {
   "cell_type": "code",
   "execution_count": 20,
   "id": "beneficial-shaft",
   "metadata": {},
   "outputs": [],
   "source": [
    "encoder = OneHotEncoder(handle_unknown = 'ignore')\n",
    "encoder.fit(precio_model[['ccaa']])\n",
    "dummy_ccaa = pd.DataFrame(encoder.transform(precio_model[['ccaa']]).toarray())\n",
    "dummy_ccaa.columns = encoder.get_feature_names(['ccaa'])\n",
    "precio_model_dummy = pd.concat([precio_model, pd.DataFrame(dummy_ccaa)], axis = 1).drop(columns = 'ccaa')"
   ]
  },
  {
   "cell_type": "code",
   "execution_count": 23,
   "id": "regulated-national",
   "metadata": {},
   "outputs": [],
   "source": [
    "regress_model_dict_dummy = {product: precio_model_dummy[(precio_model_dummy.producto == product) & \n",
    "                                                        (precio_model_dummy.date < '2020-03-01')]\\\n",
    "                      .drop(columns = ['date', 'producto']) for product in precio_model_dummy.producto.unique()}\n",
    "\n",
    "X = np.delete(regress_model_dict_dummy['Patatas'].values, 2, axis = 1)\n",
    "Y = regress_model_dict_dummy['Patatas'].values[:, 2]\n",
    "X_train, X_test, Y_train, Y_test = train_test_split(X, Y, test_size=0.2, random_state=0) "
   ]
  },
  {
   "cell_type": "code",
   "execution_count": null,
   "id": "dying-beast",
   "metadata": {},
   "outputs": [],
   "source": [
    "model1 = TPOTRegressor(generations=5, population_size=50, cv=10, scoring='r2', verbosity=2, random_state=0, n_jobs=10)\n",
    "model1.fit(X_train, Y_train)"
   ]
  },
  {
   "cell_type": "code",
   "execution_count": null,
   "id": "artificial-shadow",
   "metadata": {},
   "outputs": [],
   "source": [
    "ypred1 = model1.predict(X_test)\n",
    "r2_score(Y_test, ypred1)"
   ]
  },
  {
   "cell_type": "markdown",
   "id": "terminal-natural",
   "metadata": {},
   "source": [
    "## Predicciones "
   ]
  },
  {
   "cell_type": "code",
   "execution_count": 39,
   "id": "possible-change",
   "metadata": {},
   "outputs": [
    {
     "data": {
      "text/html": [
       "<div>\n",
       "<style scoped>\n",
       "    .dataframe tbody tr th:only-of-type {\n",
       "        vertical-align: middle;\n",
       "    }\n",
       "\n",
       "    .dataframe tbody tr th {\n",
       "        vertical-align: top;\n",
       "    }\n",
       "\n",
       "    .dataframe thead th {\n",
       "        text-align: right;\n",
       "    }\n",
       "</style>\n",
       "<table border=\"1\" class=\"dataframe\">\n",
       "  <thead>\n",
       "    <tr style=\"text-align: right;\">\n",
       "      <th></th>\n",
       "      <th>volumen_miles_de_kg</th>\n",
       "      <th>valor_miles_de_€</th>\n",
       "      <th>precio_medio_kg</th>\n",
       "      <th>ccaa_Andalucia</th>\n",
       "      <th>ccaa_Aragon</th>\n",
       "      <th>ccaa_Asturias</th>\n",
       "      <th>ccaa_Baleares</th>\n",
       "      <th>ccaa_Canarias</th>\n",
       "      <th>ccaa_Cantabria</th>\n",
       "      <th>ccaa_Castilla la mancha</th>\n",
       "      <th>...</th>\n",
       "      <th>ccaa_Cataluña</th>\n",
       "      <th>ccaa_Extremadura</th>\n",
       "      <th>ccaa_Galicia</th>\n",
       "      <th>ccaa_La rioja</th>\n",
       "      <th>ccaa_Madrid</th>\n",
       "      <th>ccaa_Murcia</th>\n",
       "      <th>ccaa_Nacional</th>\n",
       "      <th>ccaa_Navarra</th>\n",
       "      <th>ccaa_Pais vasco</th>\n",
       "      <th>ccaa_Valencia</th>\n",
       "    </tr>\n",
       "  </thead>\n",
       "  <tbody>\n",
       "    <tr>\n",
       "      <th>468</th>\n",
       "      <td>144056.38</td>\n",
       "      <td>137944.62</td>\n",
       "      <td>0.96</td>\n",
       "      <td>0.0</td>\n",
       "      <td>0.0</td>\n",
       "      <td>0.0</td>\n",
       "      <td>0.0</td>\n",
       "      <td>0.0</td>\n",
       "      <td>0.0</td>\n",
       "      <td>0.0</td>\n",
       "      <td>...</td>\n",
       "      <td>0.0</td>\n",
       "      <td>0.0</td>\n",
       "      <td>0.0</td>\n",
       "      <td>0.0</td>\n",
       "      <td>0.0</td>\n",
       "      <td>0.0</td>\n",
       "      <td>1.0</td>\n",
       "      <td>0.0</td>\n",
       "      <td>0.0</td>\n",
       "      <td>0.0</td>\n",
       "    </tr>\n",
       "    <tr>\n",
       "      <th>469</th>\n",
       "      <td>26781.88</td>\n",
       "      <td>25208.52</td>\n",
       "      <td>0.94</td>\n",
       "      <td>1.0</td>\n",
       "      <td>0.0</td>\n",
       "      <td>0.0</td>\n",
       "      <td>0.0</td>\n",
       "      <td>0.0</td>\n",
       "      <td>0.0</td>\n",
       "      <td>0.0</td>\n",
       "      <td>...</td>\n",
       "      <td>0.0</td>\n",
       "      <td>0.0</td>\n",
       "      <td>0.0</td>\n",
       "      <td>0.0</td>\n",
       "      <td>0.0</td>\n",
       "      <td>0.0</td>\n",
       "      <td>0.0</td>\n",
       "      <td>0.0</td>\n",
       "      <td>0.0</td>\n",
       "      <td>0.0</td>\n",
       "    </tr>\n",
       "    <tr>\n",
       "      <th>470</th>\n",
       "      <td>3242.56</td>\n",
       "      <td>3119.75</td>\n",
       "      <td>0.96</td>\n",
       "      <td>0.0</td>\n",
       "      <td>1.0</td>\n",
       "      <td>0.0</td>\n",
       "      <td>0.0</td>\n",
       "      <td>0.0</td>\n",
       "      <td>0.0</td>\n",
       "      <td>0.0</td>\n",
       "      <td>...</td>\n",
       "      <td>0.0</td>\n",
       "      <td>0.0</td>\n",
       "      <td>0.0</td>\n",
       "      <td>0.0</td>\n",
       "      <td>0.0</td>\n",
       "      <td>0.0</td>\n",
       "      <td>0.0</td>\n",
       "      <td>0.0</td>\n",
       "      <td>0.0</td>\n",
       "      <td>0.0</td>\n",
       "    </tr>\n",
       "    <tr>\n",
       "      <th>471</th>\n",
       "      <td>3981.23</td>\n",
       "      <td>3218.15</td>\n",
       "      <td>0.81</td>\n",
       "      <td>0.0</td>\n",
       "      <td>0.0</td>\n",
       "      <td>1.0</td>\n",
       "      <td>0.0</td>\n",
       "      <td>0.0</td>\n",
       "      <td>0.0</td>\n",
       "      <td>0.0</td>\n",
       "      <td>...</td>\n",
       "      <td>0.0</td>\n",
       "      <td>0.0</td>\n",
       "      <td>0.0</td>\n",
       "      <td>0.0</td>\n",
       "      <td>0.0</td>\n",
       "      <td>0.0</td>\n",
       "      <td>0.0</td>\n",
       "      <td>0.0</td>\n",
       "      <td>0.0</td>\n",
       "      <td>0.0</td>\n",
       "    </tr>\n",
       "    <tr>\n",
       "      <th>472</th>\n",
       "      <td>3868.96</td>\n",
       "      <td>4070.38</td>\n",
       "      <td>1.05</td>\n",
       "      <td>0.0</td>\n",
       "      <td>0.0</td>\n",
       "      <td>0.0</td>\n",
       "      <td>1.0</td>\n",
       "      <td>0.0</td>\n",
       "      <td>0.0</td>\n",
       "      <td>0.0</td>\n",
       "      <td>...</td>\n",
       "      <td>0.0</td>\n",
       "      <td>0.0</td>\n",
       "      <td>0.0</td>\n",
       "      <td>0.0</td>\n",
       "      <td>0.0</td>\n",
       "      <td>0.0</td>\n",
       "      <td>0.0</td>\n",
       "      <td>0.0</td>\n",
       "      <td>0.0</td>\n",
       "      <td>0.0</td>\n",
       "    </tr>\n",
       "  </tbody>\n",
       "</table>\n",
       "<p>5 rows × 21 columns</p>\n",
       "</div>"
      ],
      "text/plain": [
       "     volumen_miles_de_kg  valor_miles_de_€  precio_medio_kg  ccaa_Andalucia  \\\n",
       "468            144056.38         137944.62             0.96             0.0   \n",
       "469             26781.88          25208.52             0.94             1.0   \n",
       "470              3242.56           3119.75             0.96             0.0   \n",
       "471              3981.23           3218.15             0.81             0.0   \n",
       "472              3868.96           4070.38             1.05             0.0   \n",
       "\n",
       "     ccaa_Aragon  ccaa_Asturias  ccaa_Baleares  ccaa_Canarias  ccaa_Cantabria  \\\n",
       "468          0.0            0.0            0.0            0.0             0.0   \n",
       "469          0.0            0.0            0.0            0.0             0.0   \n",
       "470          1.0            0.0            0.0            0.0             0.0   \n",
       "471          0.0            1.0            0.0            0.0             0.0   \n",
       "472          0.0            0.0            1.0            0.0             0.0   \n",
       "\n",
       "     ccaa_Castilla la mancha  ...  ccaa_Cataluña  ccaa_Extremadura  \\\n",
       "468                      0.0  ...            0.0               0.0   \n",
       "469                      0.0  ...            0.0               0.0   \n",
       "470                      0.0  ...            0.0               0.0   \n",
       "471                      0.0  ...            0.0               0.0   \n",
       "472                      0.0  ...            0.0               0.0   \n",
       "\n",
       "     ccaa_Galicia  ccaa_La rioja  ccaa_Madrid  ccaa_Murcia  ccaa_Nacional  \\\n",
       "468           0.0            0.0          0.0          0.0            1.0   \n",
       "469           0.0            0.0          0.0          0.0            0.0   \n",
       "470           0.0            0.0          0.0          0.0            0.0   \n",
       "471           0.0            0.0          0.0          0.0            0.0   \n",
       "472           0.0            0.0          0.0          0.0            0.0   \n",
       "\n",
       "     ccaa_Navarra  ccaa_Pais vasco  ccaa_Valencia  \n",
       "468           0.0              0.0            0.0  \n",
       "469           0.0              0.0            0.0  \n",
       "470           0.0              0.0            0.0  \n",
       "471           0.0              0.0            0.0  \n",
       "472           0.0              0.0            0.0  \n",
       "\n",
       "[5 rows x 21 columns]"
      ]
     },
     "execution_count": 39,
     "metadata": {},
     "output_type": "execute_result"
    }
   ],
   "source": [
    "periodo_covid_patatas = precio_model_dummy[(precio_model_dummy.producto == 'Patatas') & (precio_model_dummy.date >= '2020-03-01')]\n",
    "periodo_covid_patatas.drop(columns = ['producto', 'date'], inplace = True)"
   ]
  }
 ],
 "metadata": {
  "kernelspec": {
   "display_name": "Python 3",
   "language": "python",
   "name": "python3"
  },
  "language_info": {
   "codemirror_mode": {
    "name": "ipython",
    "version": 3
   },
   "file_extension": ".py",
   "mimetype": "text/x-python",
   "name": "python",
   "nbconvert_exporter": "python",
   "pygments_lexer": "ipython3",
   "version": "3.7.3"
  }
 },
 "nbformat": 4,
 "nbformat_minor": 5
}
